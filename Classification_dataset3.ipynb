{
  "nbformat": 4,
  "nbformat_minor": 0,
  "metadata": {
    "colab": {
      "provenance": []
    },
    "kernelspec": {
      "name": "python3",
      "display_name": "Python 3"
    },
    "language_info": {
      "name": "python"
    }
  },
  "cells": [
    {
      "cell_type": "code",
      "execution_count": null,
      "metadata": {
        "id": "lf5d99k3gIqQ"
      },
      "outputs": [],
      "source": [
        "import pandas as pd\n",
        "import numpy as np\n",
        "import matplotlib.pyplot as plt\n",
        "import re"
      ]
    },
    {
      "cell_type": "code",
      "source": [
        "from google.colab import drive\n",
        "drive.mount('/content/drive')"
      ],
      "metadata": {
        "colab": {
          "base_uri": "https://localhost:8080/"
        },
        "id": "iwC2opu4ytmD",
        "outputId": "893735f3-235f-4a09-b966-deb4f96a88c5"
      },
      "execution_count": null,
      "outputs": [
        {
          "output_type": "stream",
          "name": "stdout",
          "text": [
            "Drive already mounted at /content/drive; to attempt to forcibly remount, call drive.mount(\"/content/drive\", force_remount=True).\n"
          ]
        }
      ]
    },
    {
      "cell_type": "code",
      "source": [
        "data=pd.read_csv(\"/content/drive/MyDrive/Project_reviews/UserCono.csv\",encoding='latin1')\n",
        "\n",
        "data.columns = [\"Conversation\",\"name\"]\n",
        "\n",
        "data.head(10)"
      ],
      "metadata": {
        "colab": {
          "base_uri": "https://localhost:8080/",
          "height": 363
        },
        "id": "bwdAqJDegOME",
        "outputId": "1f23ce09-5a69-4113-946b-5e320237a77d"
      },
      "execution_count": null,
      "outputs": [
        {
          "output_type": "execute_result",
          "data": {
            "text/plain": [
              "                                        Conversation    name\n",
              "0  Dopey Sugar @ Lord_Sugarâif you were smart, ...  User 1\n",
              "1  . @ Lord_Sugarâwindfarms are expensive, need...  User 1\n",
              "2  Dopey Sugar @ Lord_Sugarâyou are the worst k...  User 1\n",
              "3  I just bought stock in Tiffany & Company and M...  User 1\n",
              "4  @ Lord_Sugar Dopey Sugar--because it was open ...  User 1\n",
              "5  Dopey Sugar @ Lord_Sugar The people in the UK ...  User 1\n",
              "6  Dopey Sugar @ Lord_Sugar I can't believe you w...  User 1\n",
              "7  My @ foxandfriends interview discussing the Gr...  User 1\n",
              "8  Watch @ davidaxelrod shave his mustache on @ M...  User 1\n",
              "9  \"Donald Trump, king of timely Internet soundbi...  User 1"
            ],
            "text/html": [
              "\n",
              "  <div id=\"df-ba0c4421-13d7-4cec-9e40-0bcfd060927f\">\n",
              "    <div class=\"colab-df-container\">\n",
              "      <div>\n",
              "<style scoped>\n",
              "    .dataframe tbody tr th:only-of-type {\n",
              "        vertical-align: middle;\n",
              "    }\n",
              "\n",
              "    .dataframe tbody tr th {\n",
              "        vertical-align: top;\n",
              "    }\n",
              "\n",
              "    .dataframe thead th {\n",
              "        text-align: right;\n",
              "    }\n",
              "</style>\n",
              "<table border=\"1\" class=\"dataframe\">\n",
              "  <thead>\n",
              "    <tr style=\"text-align: right;\">\n",
              "      <th></th>\n",
              "      <th>Conversation</th>\n",
              "      <th>name</th>\n",
              "    </tr>\n",
              "  </thead>\n",
              "  <tbody>\n",
              "    <tr>\n",
              "      <th>0</th>\n",
              "      <td>Dopey Sugar @ Lord_Sugarâif you were smart, ...</td>\n",
              "      <td>User 1</td>\n",
              "    </tr>\n",
              "    <tr>\n",
              "      <th>1</th>\n",
              "      <td>. @ Lord_Sugarâwindfarms are expensive, need...</td>\n",
              "      <td>User 1</td>\n",
              "    </tr>\n",
              "    <tr>\n",
              "      <th>2</th>\n",
              "      <td>Dopey Sugar @ Lord_Sugarâyou are the worst k...</td>\n",
              "      <td>User 1</td>\n",
              "    </tr>\n",
              "    <tr>\n",
              "      <th>3</th>\n",
              "      <td>I just bought stock in Tiffany &amp; Company and M...</td>\n",
              "      <td>User 1</td>\n",
              "    </tr>\n",
              "    <tr>\n",
              "      <th>4</th>\n",
              "      <td>@ Lord_Sugar Dopey Sugar--because it was open ...</td>\n",
              "      <td>User 1</td>\n",
              "    </tr>\n",
              "    <tr>\n",
              "      <th>5</th>\n",
              "      <td>Dopey Sugar @ Lord_Sugar The people in the UK ...</td>\n",
              "      <td>User 1</td>\n",
              "    </tr>\n",
              "    <tr>\n",
              "      <th>6</th>\n",
              "      <td>Dopey Sugar @ Lord_Sugar I can't believe you w...</td>\n",
              "      <td>User 1</td>\n",
              "    </tr>\n",
              "    <tr>\n",
              "      <th>7</th>\n",
              "      <td>My @ foxandfriends interview discussing the Gr...</td>\n",
              "      <td>User 1</td>\n",
              "    </tr>\n",
              "    <tr>\n",
              "      <th>8</th>\n",
              "      <td>Watch @ davidaxelrod shave his mustache on @ M...</td>\n",
              "      <td>User 1</td>\n",
              "    </tr>\n",
              "    <tr>\n",
              "      <th>9</th>\n",
              "      <td>\"Donald Trump, king of timely Internet soundbi...</td>\n",
              "      <td>User 1</td>\n",
              "    </tr>\n",
              "  </tbody>\n",
              "</table>\n",
              "</div>\n",
              "      <button class=\"colab-df-convert\" onclick=\"convertToInteractive('df-ba0c4421-13d7-4cec-9e40-0bcfd060927f')\"\n",
              "              title=\"Convert this dataframe to an interactive table.\"\n",
              "              style=\"display:none;\">\n",
              "        \n",
              "  <svg xmlns=\"http://www.w3.org/2000/svg\" height=\"24px\"viewBox=\"0 0 24 24\"\n",
              "       width=\"24px\">\n",
              "    <path d=\"M0 0h24v24H0V0z\" fill=\"none\"/>\n",
              "    <path d=\"M18.56 5.44l.94 2.06.94-2.06 2.06-.94-2.06-.94-.94-2.06-.94 2.06-2.06.94zm-11 1L8.5 8.5l.94-2.06 2.06-.94-2.06-.94L8.5 2.5l-.94 2.06-2.06.94zm10 10l.94 2.06.94-2.06 2.06-.94-2.06-.94-.94-2.06-.94 2.06-2.06.94z\"/><path d=\"M17.41 7.96l-1.37-1.37c-.4-.4-.92-.59-1.43-.59-.52 0-1.04.2-1.43.59L10.3 9.45l-7.72 7.72c-.78.78-.78 2.05 0 2.83L4 21.41c.39.39.9.59 1.41.59.51 0 1.02-.2 1.41-.59l7.78-7.78 2.81-2.81c.8-.78.8-2.07 0-2.86zM5.41 20L4 18.59l7.72-7.72 1.47 1.35L5.41 20z\"/>\n",
              "  </svg>\n",
              "      </button>\n",
              "      \n",
              "  <style>\n",
              "    .colab-df-container {\n",
              "      display:flex;\n",
              "      flex-wrap:wrap;\n",
              "      gap: 12px;\n",
              "    }\n",
              "\n",
              "    .colab-df-convert {\n",
              "      background-color: #E8F0FE;\n",
              "      border: none;\n",
              "      border-radius: 50%;\n",
              "      cursor: pointer;\n",
              "      display: none;\n",
              "      fill: #1967D2;\n",
              "      height: 32px;\n",
              "      padding: 0 0 0 0;\n",
              "      width: 32px;\n",
              "    }\n",
              "\n",
              "    .colab-df-convert:hover {\n",
              "      background-color: #E2EBFA;\n",
              "      box-shadow: 0px 1px 2px rgba(60, 64, 67, 0.3), 0px 1px 3px 1px rgba(60, 64, 67, 0.15);\n",
              "      fill: #174EA6;\n",
              "    }\n",
              "\n",
              "    [theme=dark] .colab-df-convert {\n",
              "      background-color: #3B4455;\n",
              "      fill: #D2E3FC;\n",
              "    }\n",
              "\n",
              "    [theme=dark] .colab-df-convert:hover {\n",
              "      background-color: #434B5C;\n",
              "      box-shadow: 0px 1px 3px 1px rgba(0, 0, 0, 0.15);\n",
              "      filter: drop-shadow(0px 1px 2px rgba(0, 0, 0, 0.3));\n",
              "      fill: #FFFFFF;\n",
              "    }\n",
              "  </style>\n",
              "\n",
              "      <script>\n",
              "        const buttonEl =\n",
              "          document.querySelector('#df-ba0c4421-13d7-4cec-9e40-0bcfd060927f button.colab-df-convert');\n",
              "        buttonEl.style.display =\n",
              "          google.colab.kernel.accessAllowed ? 'block' : 'none';\n",
              "\n",
              "        async function convertToInteractive(key) {\n",
              "          const element = document.querySelector('#df-ba0c4421-13d7-4cec-9e40-0bcfd060927f');\n",
              "          const dataTable =\n",
              "            await google.colab.kernel.invokeFunction('convertToInteractive',\n",
              "                                                     [key], {});\n",
              "          if (!dataTable) return;\n",
              "\n",
              "          const docLinkHtml = 'Like what you see? Visit the ' +\n",
              "            '<a target=\"_blank\" href=https://colab.research.google.com/notebooks/data_table.ipynb>data table notebook</a>'\n",
              "            + ' to learn more about interactive tables.';\n",
              "          element.innerHTML = '';\n",
              "          dataTable['output_type'] = 'display_data';\n",
              "          await google.colab.output.renderOutput(dataTable, element);\n",
              "          const docLink = document.createElement('div');\n",
              "          docLink.innerHTML = docLinkHtml;\n",
              "          element.appendChild(docLink);\n",
              "        }\n",
              "      </script>\n",
              "    </div>\n",
              "  </div>\n",
              "  "
            ]
          },
          "metadata": {},
          "execution_count": 5
        }
      ]
    },
    {
      "cell_type": "code",
      "source": [
        "f=data['name'].value_counts()\n",
        "print((f*100)/f.sum())\n",
        "plt.pie(f,labels=data['name'].unique(),autopct='%1.1f%%',startangle=90)\n",
        "plt.show()"
      ],
      "metadata": {
        "colab": {
          "base_uri": "https://localhost:8080/",
          "height": 317
        },
        "id": "Rz3TOBcZg1qe",
        "outputId": "70c2230c-28f5-4cb0-c4a2-50025c2c0622"
      },
      "execution_count": null,
      "outputs": [
        {
          "output_type": "stream",
          "name": "stdout",
          "text": [
            "User 1    38.462722\n",
            "User 2    38.462722\n",
            "User 3    23.074556\n",
            "Name: name, dtype: float64\n"
          ]
        },
        {
          "output_type": "display_data",
          "data": {
            "text/plain": [
              "<Figure size 432x288 with 1 Axes>"
            ],
            "image/png": "[encoded data removed]"
          },
          "metadata": {}
        }
      ]
    },
    {
      "cell_type": "code",
      "source": [
        "print(\"Number of duplicates before dropping: \",data.duplicated().sum())\n",
        "data.drop_duplicates(inplace=True)\n",
        "print(\"Number of duplicates after dropping: \",data.duplicated().sum())"
      ],
      "metadata": {
        "colab": {
          "base_uri": "https://localhost:8080/"
        },
        "id": "7nzu3huCg4bD",
        "outputId": "9336ac64-00bc-4e6f-b7b5-f298d27c77d8"
      },
      "execution_count": null,
      "outputs": [
        {
          "output_type": "stream",
          "name": "stdout",
          "text": [
            "Number of duplicates before dropping:  13\n",
            "Number of duplicates after dropping:  0\n"
          ]
        }
      ]
    },
    {
      "cell_type": "code",
      "source": [
        "import nltk\n",
        "nltk.download('stopwords')"
      ],
      "metadata": {
        "colab": {
          "base_uri": "https://localhost:8080/"
        },
        "id": "EuARr5gog_0L",
        "outputId": "a96b3052-8b5e-425d-cdb4-56fca5c44301"
      },
      "execution_count": null,
      "outputs": [
        {
          "output_type": "stream",
          "name": "stderr",
          "text": [
            "[nltk_data] Downloading package stopwords to /root/nltk_data...\n",
            "[nltk_data]   Package stopwords is already up-to-date!\n"
          ]
        },
        {
          "output_type": "execute_result",
          "data": {
            "text/plain": [
              "True"
            ]
          },
          "metadata": {},
          "execution_count": 8
        }
      ]
    },
    {
      "cell_type": "code",
      "source": [
        "REPLACE_WITH_SPACE = re.compile(\"(@)\")\n",
        "SPACE = \" \"\n",
        "from nltk.corpus import stopwords\n",
        "english_stop_words = stopwords.words('english')\n",
        "from nltk.stem.porter import PorterStemmer\n",
        "\n",
        "def reviews(reviews):  \n",
        "    reviews = [REPLACE_WITH_SPACE.sub(SPACE, str(line)) for line in reviews]\n",
        "    \n",
        "    return reviews\n",
        "\n",
        "def remove_stop_words(corpus):\n",
        "    removed_stop_words = []\n",
        "    for review in corpus:\n",
        "        removed_stop_words.append(\n",
        "            ' '.join([word for word in review.split()  if word not in english_stop_words]))\n",
        "    return removed_stop_words\n",
        "\n",
        "def get_stemmed_text(corpus):\n",
        "    stemmer = PorterStemmer()\n",
        "\n",
        "    return [' '.join([stemmer.stem(word) for word in review.split()]) for review in corpus]"
      ],
      "metadata": {
        "id": "p9UMtDBlg7Rc"
      },
      "execution_count": null,
      "outputs": []
    },
    {
      "cell_type": "code",
      "source": [
        "convo_t = data[\"Conversation\"]\n",
        "\n",
        "target = data['name']\n",
        "\n",
        "#1\n",
        "reviewt = reviews(convo_t)\n",
        "#2\n",
        "no_stop_words_t = remove_stop_words(reviewt)\n",
        "#3\n",
        "stemmed_reviews_t = get_stemmed_text(no_stop_words_t)"
      ],
      "metadata": {
        "id": "1d41ap80g7as"
      },
      "execution_count": null,
      "outputs": []
    },
    {
      "cell_type": "code",
      "source": [
        "from sklearn.feature_extraction.text import TfidfVectorizer\n",
        "\n",
        "tfidf_vectorizer = TfidfVectorizer()\n",
        "tfidf_vectorizer.fit(stemmed_reviews_t)\n",
        "X = tfidf_vectorizer.transform(stemmed_reviews_t)\n",
        "#X_test = tfidf_vectorizer.transform(stemmed_reviews_test)"
      ],
      "metadata": {
        "id": "S5FK6NYOg7dn"
      },
      "execution_count": null,
      "outputs": []
    },
    {
      "cell_type": "code",
      "source": [
        "from sklearn.model_selection import train_test_split\n",
        "\n",
        "X_train, X_val, y_train, y_val = train_test_split(X, target, train_size = 0.8)"
      ],
      "metadata": {
        "id": "HaSrISwghKA7"
      },
      "execution_count": null,
      "outputs": []
    },
    {
      "cell_type": "code",
      "source": [
        "from sklearn.ensemble import RandomForestClassifier\n",
        "from sklearn.metrics import classification_report\n",
        "\n",
        "text_classifier = RandomForestClassifier(n_estimators=50, random_state=0)\n",
        "text_classifier.fit(X_train, y_train)\n",
        "\n",
        "y_pred=text_classifier.predict(X_val)\n",
        "print(\"y_pred: \\n\",y_pred)\n",
        "print(classification_report(y_val,y_pred))"
      ],
      "metadata": {
        "colab": {
          "base_uri": "https://localhost:8080/"
        },
        "id": "r7ujvllUhKQO",
        "outputId": "626c23c0-7698-4cc3-c1a3-e588407e5355"
      },
      "execution_count": null,
      "outputs": [
        {
          "output_type": "stream",
          "name": "stdout",
          "text": [
            "y_pred: \n",
            " ['User 1' 'User 2' 'User 2' ... 'User 2' 'User 1' 'User 2']\n",
            "              precision    recall  f1-score   support\n",
            "\n",
            "      User 1       0.85      0.97      0.91       990\n",
            "      User 2       0.95      0.96      0.96      1004\n",
            "      User 3       0.93      0.71      0.81       603\n",
            "\n",
            "    accuracy                           0.91      2597\n",
            "   macro avg       0.91      0.88      0.89      2597\n",
            "weighted avg       0.91      0.91      0.90      2597\n",
            "\n"
          ]
        }
      ]
    },
    {
      "cell_type": "code",
      "source": [
        "from sklearn.neural_network import MLPClassifier\n",
        "\n",
        "clf = MLPClassifier(solver='adam', alpha=1e-5, hidden_layer_sizes=(50,), random_state=1,max_iter=1000)"
      ],
      "metadata": {
        "id": "H0PpQHqahKSc"
      },
      "execution_count": null,
      "outputs": []
    },
    {
      "cell_type": "code",
      "source": [
        "clf.fit(X_train,y_train)"
      ],
      "metadata": {
        "colab": {
          "base_uri": "https://localhost:8080/"
        },
        "id": "dnLCWYcghRsU",
        "outputId": "b7a20454-d9ba-4cb3-addb-713801a9b803"
      },
      "execution_count": null,
      "outputs": [
        {
          "output_type": "execute_result",
          "data": {
            "text/plain": [
              "MLPClassifier(alpha=1e-05, hidden_layer_sizes=(50,), max_iter=1000,\n",
              "              random_state=1)"
            ]
          },
          "metadata": {},
          "execution_count": 15
        }
      ]
    },
    {
      "cell_type": "code",
      "source": [
        "prediction = clf.predict(X_val)\n",
        "print(classification_report(y_val,prediction))"
      ],
      "metadata": {
        "colab": {
          "base_uri": "https://localhost:8080/"
        },
        "id": "en0E9HChhRum",
        "outputId": "d6785f5b-7be6-40f8-b896-4290994c8589"
      },
      "execution_count": null,
      "outputs": [
        {
          "output_type": "stream",
          "name": "stdout",
          "text": [
            "              precision    recall  f1-score   support\n",
            "\n",
            "      User 1       0.95      0.96      0.95       990\n",
            "      User 2       0.97      0.98      0.97      1004\n",
            "      User 3       0.93      0.91      0.92       603\n",
            "\n",
            "    accuracy                           0.95      2597\n",
            "   macro avg       0.95      0.95      0.95      2597\n",
            "weighted avg       0.95      0.95      0.95      2597\n",
            "\n"
          ]
        }
      ]
    },
    {
      "cell_type": "code",
      "source": [
        "data['label_id'] = data['name'].factorize()[0]\n",
        "cat_id = data[['name', 'label_id']].drop_duplicates().sort_values('label_id')\n",
        "cat_to_id = dict(cat_id.values)\n",
        "id_to_cat = dict(cat_id[['label_id', 'name']].values)\n",
        "\n",
        "#show data id_to_category\n",
        "id_to_cat"
      ],
      "metadata": {
        "colab": {
          "base_uri": "https://localhost:8080/"
        },
        "id": "ACqO0IdUhRw-",
        "outputId": "0b3219d0-51c1-4fa6-f581-754d1b414c9d"
      },
      "execution_count": null,
      "outputs": [
        {
          "output_type": "execute_result",
          "data": {
            "text/plain": [
              "{0: 'User 1', 1: 'User 2', 2: 'User 3'}"
            ]
          },
          "metadata": {},
          "execution_count": 17
        }
      ]
    },
    {
      "cell_type": "code",
      "source": [
        "label = data['label_id'].values\n",
        "text = data['Conversation'].values\n",
        "\n",
        "print('Value of [label]:', label, \"\\n\")\n",
        "print('Value of [text]:', text)"
      ],
      "metadata": {
        "colab": {
          "base_uri": "https://localhost:8080/"
        },
        "id": "URSMSXPNhrrW",
        "outputId": "03e9ffcc-39a9-42a5-cc99-ba33e9b3d4ab"
      },
      "execution_count": null,
      "outputs": [
        {
          "output_type": "stream",
          "name": "stdout",
          "text": [
            "Value of [label]: [0 0 0 ... 2 2 2] \n",
            "\n",
            "Value of [text]: ['Dopey Sugar @ Lord_Sugarâ\\x80\\x94if you were smart, which you are not, you would oppose the monstrous windfarms that will destroy your country.'\n",
            " '. @ Lord_Sugarâ\\x80\\x94windfarms are expensive, need subsidy,kill birds & destroy country & waterway beauty. Also, very unreliable & expensive energy.'\n",
            " 'Dopey Sugar @ Lord_Sugarâ\\x80\\x94you are the worst kind of loserâ\\x80\\x94a total fool.'\n",
            " ... 'Now with actual picture :) http://t.co/G6PCiAJmtx'\n",
            " 'Cool picture of Io crossing Jupiter sent to me by @shervin. Would be amazing to visit in person one day.'\n",
            " \"Congratulations to @OrbitalSciences! ?@CNETNews: Orbital's Antares rocket makes successful test flight http://t.co/y7bwdDMGCi?\"]\n"
          ]
        }
      ]
    },
    {
      "cell_type": "code",
      "source": [
        "maxfeatures = 10000\n",
        "\n",
        "#tokenization\n",
        "from keras.preprocessing.text import Tokenizer\n",
        "tokenizer = Tokenizer(num_words = maxfeatures)\n",
        "for i in range(len(text)):\n",
        "  text[i] = str(text[i])\n",
        "  \n",
        "tokenizer.fit_on_texts(text)"
      ],
      "metadata": {
        "id": "5Lxd967dhrtj"
      },
      "execution_count": null,
      "outputs": []
    },
    {
      "cell_type": "code",
      "source": [
        "maxseqlen = max([len(i.split()) for i in text])\n",
        "print(maxseqlen)"
      ],
      "metadata": {
        "colab": {
          "base_uri": "https://localhost:8080/"
        },
        "id": "wmykqagMhrwA",
        "outputId": "a410c947-641b-4057-8f0b-c3402dd61f44"
      },
      "execution_count": null,
      "outputs": [
        {
          "output_type": "stream",
          "name": "stdout",
          "text": [
            "59\n"
          ]
        }
      ]
    },
    {
      "cell_type": "code",
      "source": [
        "from keras_preprocessing.sequence import pad_sequences\n",
        "from keras.utils.np_utils import to_categorical\n",
        "\n",
        "X = tokenizer.texts_to_sequences(text)\n",
        "X = pad_sequences(X, maxseqlen)\n",
        "y = to_categorical(label, num_classes = 3)\n",
        "\n",
        "print(\"Shape of data tensor ['text']:\", X.shape)\n",
        "print(\"Shape of data tensor ['label']:\", y.shape)"
      ],
      "metadata": {
        "colab": {
          "base_uri": "https://localhost:8080/"
        },
        "id": "uEeU2R0YhzRT",
        "outputId": "b6ba0c67-bb23-43f2-bb18-4de27ccb49e7"
      },
      "execution_count": null,
      "outputs": [
        {
          "output_type": "stream",
          "name": "stdout",
          "text": [
            "Shape of data tensor ['text']: (12984, 59)\n",
            "Shape of data tensor ['label']: (12984, 3)\n"
          ]
        }
      ]
    },
    {
      "cell_type": "code",
      "source": [
        "from sklearn.model_selection import train_test_split\n",
        "\n",
        "Xtrain, Xtest, ytrain, ytest = train_test_split(X, y, test_size=0.2, random_state=42)\n",
        "\n",
        "print(Xtrain.shape, ytrain.shape)\n",
        "print(Xtest.shape, ytest.shape)"
      ],
      "metadata": {
        "colab": {
          "base_uri": "https://localhost:8080/"
        },
        "id": "KCz5di1bhzT0",
        "outputId": "61eedc50-080d-4543-8b5d-46625ab13eac"
      },
      "execution_count": null,
      "outputs": [
        {
          "output_type": "stream",
          "name": "stdout",
          "text": [
            "(10387, 59) (10387, 3)\n",
            "(2597, 59) (2597, 3)\n"
          ]
        }
      ]
    },
    {
      "cell_type": "code",
      "source": [
        "from keras.models import Sequential\n",
        "from keras.layers import LSTM, Dropout, Embedding, Dense, GlobalMaxPool1D\n",
        "from keras.optimizers import RMSprop\n",
        "\n",
        "model = Sequential()\n",
        "model.add(Embedding(input_dim = maxfeatures, output_dim = 128, input_length = maxseqlen))\n",
        "model.add(LSTM(128, return_sequences = True))\n",
        "model.add(GlobalMaxPool1D())\n",
        "model.add(Dense(64, activation='relu'))\n",
        "model.add(Dropout(0.1))\n",
        "model.add(Dense(16, activation='relu'))\n",
        "model.add(Dropout(0.1))\n",
        "model.add(Dense(3, activation='softmax'))\n",
        "\n",
        "\n",
        "opt = RMSprop(learning_rate=0.0012, rho=0.7, momentum=0.5)\n",
        "model.compile(optimizer=opt, loss='categorical_crossentropy', metrics=['accuracy'])\n",
        "model.summary()"
      ],
      "metadata": {
        "colab": {
          "base_uri": "https://localhost:8080/"
        },
        "id": "DzRBxOBthzWT",
        "outputId": "ca93f386-cb83-4ae8-de4e-a629e4352946"
      },
      "execution_count": null,
      "outputs": [
        {
          "output_type": "stream",
          "name": "stdout",
          "text": [
            "Model: \"sequential\"\n",
            "_________________________________________________________________\n",
            " Layer (type)                Output Shape              Param #   \n",
            "=================================================================\n",
            " embedding (Embedding)       (None, 59, 128)           1280000   \n",
            "                                                                 \n",
            " lstm (LSTM)                 (None, 59, 128)           131584    \n",
            "                                                                 \n",
            " global_max_pooling1d (Globa  (None, 128)              0         \n",
            " lMaxPooling1D)                                                  \n",
            "                                                                 \n",
            " dense (Dense)               (None, 64)                8256      \n",
            "                                                                 \n",
            " dropout (Dropout)           (None, 64)                0         \n",
            "                                                                 \n",
            " dense_1 (Dense)             (None, 16)                1040      \n",
            "                                                                 \n",
            " dropout_1 (Dropout)         (None, 16)                0         \n",
            "                                                                 \n",
            " dense_2 (Dense)             (None, 3)                 51        \n",
            "                                                                 \n",
            "=================================================================\n",
            "Total params: 1,420,931\n",
            "Trainable params: 1,420,931\n",
            "Non-trainable params: 0\n",
            "_________________________________________________________________\n"
          ]
        }
      ]
    },
    {
      "cell_type": "code",
      "source": [
        "from keras.callbacks import EarlyStopping\n",
        "\n",
        "early_stop = EarlyStopping(monitor = 'val_accuracy', patience = 3)"
      ],
      "metadata": {
        "id": "-Zk2-4G6hzZP"
      },
      "execution_count": null,
      "outputs": []
    },
    {
      "cell_type": "code",
      "source": [
        "history = model.fit(Xtrain, ytrain,batch_size = 100, epochs = 20, shuffle = True,validation_split = 0.15, verbose = 1,callbacks=early_stop)"
      ],
      "metadata": {
        "colab": {
          "base_uri": "https://localhost:8080/"
        },
        "id": "fOyg7qvgiCF1",
        "outputId": "e24ea1b7-b806-4d1b-d3ec-84cc85bb2eef"
      },
      "execution_count": null,
      "outputs": [
        {
          "output_type": "stream",
          "name": "stdout",
          "text": [
            "Epoch 1/20\n",
            "89/89 [==============================] - 24s 244ms/step - loss: 0.6589 - accuracy: 0.7022 - val_loss: 0.3357 - val_accuracy: 0.8691\n",
            "Epoch 2/20\n",
            "89/89 [==============================] - 19s 210ms/step - loss: 0.2266 - accuracy: 0.9129 - val_loss: 0.1960 - val_accuracy: 0.9294\n",
            "Epoch 3/20\n",
            "89/89 [==============================] - 19s 208ms/step - loss: 0.1288 - accuracy: 0.9531 - val_loss: 0.3116 - val_accuracy: 0.9096\n",
            "Epoch 4/20\n",
            "89/89 [==============================] - 19s 210ms/step - loss: 0.0935 - accuracy: 0.9681 - val_loss: 0.2094 - val_accuracy: 0.9352\n",
            "Epoch 5/20\n",
            "89/89 [==============================] - 19s 208ms/step - loss: 0.0660 - accuracy: 0.9764 - val_loss: 0.2254 - val_accuracy: 0.9333\n",
            "Epoch 6/20\n",
            "89/89 [==============================] - 19s 209ms/step - loss: 0.0525 - accuracy: 0.9830 - val_loss: 0.2381 - val_accuracy: 0.9468\n",
            "Epoch 7/20\n",
            "89/89 [==============================] - 19s 211ms/step - loss: 0.0419 - accuracy: 0.9860 - val_loss: 0.2550 - val_accuracy: 0.9416\n",
            "Epoch 8/20\n",
            "89/89 [==============================] - 19s 208ms/step - loss: 0.0326 - accuracy: 0.9890 - val_loss: 0.2974 - val_accuracy: 0.9436\n",
            "Epoch 9/20\n",
            "89/89 [==============================] - 19s 209ms/step - loss: 0.0296 - accuracy: 0.9903 - val_loss: 0.2892 - val_accuracy: 0.9371\n"
          ]
        }
      ]
    },
    {
      "cell_type": "code",
      "source": [
        "plt.plot (history.history['accuracy'])\n",
        "plt.plot (history.history['val_accuracy'])\n",
        "\n",
        "plt.title('model accuracy')\n",
        "plt.ylabel('accuracy')\n",
        "plt.xlabel('epoch')\n",
        "\n",
        "plt.legend(['acc', 'val_acc'], loc='upper left')\n",
        "plt.show()"
      ],
      "metadata": {
        "colab": {
          "base_uri": "https://localhost:8080/",
          "height": 295
        },
        "id": "fiwbi3uZiCIf",
        "outputId": "613290f7-43ae-4ca0-84a1-bbf1bcffcfc1"
      },
      "execution_count": null,
      "outputs": [
        {
          "output_type": "display_data",
          "data": {
            "text/plain": [
              "<Figure size 432x288 with 1 Axes>"
            ],
            "image/png": "[encoded data removed]"
          },
          "metadata": {
            "needs_background": "light"
          }
        }
      ]
    },
    {
      "cell_type": "code",
      "source": [
        "from sklearn.metrics import accuracy_score\n",
        "\n",
        "def evaluation(model, X, Y):\n",
        "  global Y_pred, Y_act\n",
        "  Y_pred = model.predict(X)\n",
        "  Y_pred_class = np.argmax(Y_pred, axis=1)\n",
        "  rounded_labels=np.argmax(Y, axis=1)\n",
        "  Y_act = rounded_labels\n",
        "  \n",
        "  accuracy = accuracy_score(Y_act, Y_pred_class)\n",
        "  return accuracy\n",
        "\n",
        "accuracy = evaluation(model, Xtest, ytest)\n",
        "print('accuracy: %.3f' % (accuracy * 100), '%')"
      ],
      "metadata": {
        "colab": {
          "base_uri": "https://localhost:8080/"
        },
        "id": "_UqclbXCiCK1",
        "outputId": "66325355-fac1-48e8-a611-8c011773797e"
      },
      "execution_count": null,
      "outputs": [
        {
          "output_type": "stream",
          "name": "stdout",
          "text": [
            "82/82 [==============================] - 3s 35ms/step\n",
            "accuracy: 91.798 %\n"
          ]
        }
      ]
    },
    {
      "cell_type": "code",
      "source": [
        "from sklearn.metrics import confusion_matrix, classification_report\n",
        "\n",
        "target = [\"U1\",\"U2\",\"U3\"]\n",
        "print(confusion_matrix(Y_act, np.argmax(Y_pred, axis=1)))\n",
        "print(classification_report(Y_act, np.argmax(Y_pred, axis = 1), target_names = target))"
      ],
      "metadata": {
        "colab": {
          "base_uri": "https://localhost:8080/"
        },
        "id": "IuMhWgCizZHW",
        "outputId": "6064d089-8905-42ee-8aa8-a55f9ca244bb"
      },
      "execution_count": null,
      "outputs": [
        {
          "output_type": "stream",
          "name": "stdout",
          "text": [
            "[[936  22  61]\n",
            " [ 33 943  13]\n",
            " [ 53  31 505]]\n",
            "              precision    recall  f1-score   support\n",
            "\n",
            "          U1       0.92      0.92      0.92      1019\n",
            "          U2       0.95      0.95      0.95       989\n",
            "          U3       0.87      0.86      0.86       589\n",
            "\n",
            "    accuracy                           0.92      2597\n",
            "   macro avg       0.91      0.91      0.91      2597\n",
            "weighted avg       0.92      0.92      0.92      2597\n",
            "\n"
          ]
        }
      ]
    },
    {
      "cell_type": "code",
      "source": [
        "import matplotlib.pyplot as plt\n",
        "plt.style.use('ggplot')\n",
        "\n",
        "def plot_history(history):\n",
        "    acc = history.history['accuracy']\n",
        "    val_acc = history.history['val_accuracy']\n",
        "    loss = history.history['loss']\n",
        "    val_loss = history.history['val_loss']\n",
        "    x = range(1, len(acc) + 1)\n",
        "\n",
        "    plt.figure(figsize=(12, 5))\n",
        "    plt.subplot(1, 2, 1)\n",
        "    plt.plot(x, acc, 'b', label='Training acc')\n",
        "    plt.plot(x, val_acc, 'r', label='Validation acc')\n",
        "    plt.title('Training and validation accuracy')\n",
        "    plt.legend()\n",
        "    plt.subplot(1, 2, 2)\n",
        "    plt.plot(x, loss, 'b', label='Training loss')\n",
        "    plt.plot(x, val_loss, 'r', label='Validation loss')\n",
        "    plt.title('Training and validation loss')\n",
        "    plt.legend()\n",
        "  "
      ],
      "metadata": {
        "id": "oyxOTa8SrF7I"
      },
      "execution_count": null,
      "outputs": []
    },
    {
      "cell_type": "code",
      "source": [
        "plot_history(history)"
      ],
      "metadata": {
        "colab": {
          "base_uri": "https://localhost:8080/",
          "height": 337
        },
        "id": "aoqMHfKJrG0F",
        "outputId": "aea902a2-e88d-4b00-baf8-8c4c05b458aa"
      },
      "execution_count": null,
      "outputs": [
        {
          "output_type": "display_data",
          "data": {
            "text/plain": [
              "<Figure size 864x360 with 2 Axes>"
            ],
            "image/png": "[encoded data removed]"
          },
          "metadata": {}
        }
      ]
    }
  ]
}