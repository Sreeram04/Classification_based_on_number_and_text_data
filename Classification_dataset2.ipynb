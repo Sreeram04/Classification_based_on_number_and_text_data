{
  "nbformat": 4,
  "nbformat_minor": 0,
  "metadata": {
    "colab": {
      "provenance": []
    },
    "kernelspec": {
      "name": "python3",
      "display_name": "Python 3"
    },
    "language_info": {
      "name": "python"
    }
  },
  "cells": [
    {
      "cell_type": "code",
      "execution_count": null,
      "metadata": {
        "id": "YzEbr7EUHMNR"
      },
      "outputs": [],
      "source": [
        "import numpy as np\n",
        "import pandas as pd\n",
        "import matplotlib.pyplot as plt\n",
        "import re\n",
        "from sklearn import metrics"
      ]
    },
    {
      "cell_type": "code",
      "source": [
        "data=pd.read_csv('/content/drive/MyDrive/Project_reviews/conversation_train.csv')\n",
        "\n",
        "data.columns = [\"name\",\"topic\",\"type\",\"conversation\"]\n",
        "\n",
        "data.head(10)\n",
        "\n",
        "data_v=pd.read_csv('/content/drive/MyDrive/Project_reviews/conversation_test.csv')\n",
        "\n",
        "data_v.columns = [\"name\",\"topic\",\"type\",\"conversation\"]\n",
        "\n",
        "data_v.head(10)"
      ],
      "metadata": {
        "colab": {
          "base_uri": "https://localhost:8080/",
          "height": 363
        },
        "id": "dJIL7sbHHokH",
        "outputId": "8c11479f-e5e0-4e16-9cc2-dbcbac92841a"
      },
      "execution_count": null,
      "outputs": [
        {
          "output_type": "execute_result",
          "data": {
            "text/plain": [
              "    name                 topic      type  \\\n",
              "0    352                Amazon   Neutral   \n",
              "1   8312             Microsoft  Negative   \n",
              "2   4371                 CS-GO  Negative   \n",
              "3   4433                Google   Neutral   \n",
              "4   6273                  FIFA  Negative   \n",
              "5   7925             MaddenNFL  Positive   \n",
              "6  11332  TomClancysRainbowSix  Positive   \n",
              "7   1107        AssassinsCreed  Positive   \n",
              "8   2069            CallOfDuty  Negative   \n",
              "9   3185                 Dota2  Positive   \n",
              "\n",
              "                                        conversation  \n",
              "0  BBC News - Amazon boss Jeff Bezos rejects clai...  \n",
              "1  @Microsoft Why do I pay for WORD when it funct...  \n",
              "2  CSGO matchmaking is so full of closet hacking,...  \n",
              "3  Now the President is slapping Americans in the...  \n",
              "4  Hi @EAHelp I’ve had Madeleine McCann in my cel...  \n",
              "5  Thank you @EAMaddenNFL!! \\n\\nNew TE Austin Hoo...  \n",
              "6  Rocket League, Sea of Thieves or Rainbow Six: ...  \n",
              "7  my ass still knee-deep in Assassins Creed Odys...  \n",
              "8  FIX IT JESUS ! Please FIX IT ! What In the wor...  \n",
              "9  The professional dota 2 scene is fucking explo...  "
            ],
            "text/html": [
              "\n",
              "  <div id=\"df-a446ae2a-495c-4762-a11d-59842af64e59\">\n",
              "    <div class=\"colab-df-container\">\n",
              "      <div>\n",
              "<style scoped>\n",
              "    .dataframe tbody tr th:only-of-type {\n",
              "        vertical-align: middle;\n",
              "    }\n",
              "\n",
              "    .dataframe tbody tr th {\n",
              "        vertical-align: top;\n",
              "    }\n",
              "\n",
              "    .dataframe thead th {\n",
              "        text-align: right;\n",
              "    }\n",
              "</style>\n",
              "<table border=\"1\" class=\"dataframe\">\n",
              "  <thead>\n",
              "    <tr style=\"text-align: right;\">\n",
              "      <th></th>\n",
              "      <th>name</th>\n",
              "      <th>topic</th>\n",
              "      <th>type</th>\n",
              "      <th>conversation</th>\n",
              "    </tr>\n",
              "  </thead>\n",
              "  <tbody>\n",
              "    <tr>\n",
              "      <th>0</th>\n",
              "      <td>352</td>\n",
              "      <td>Amazon</td>\n",
              "      <td>Neutral</td>\n",
              "      <td>BBC News - Amazon boss Jeff Bezos rejects clai...</td>\n",
              "    </tr>\n",
              "    <tr>\n",
              "      <th>1</th>\n",
              "      <td>8312</td>\n",
              "      <td>Microsoft</td>\n",
              "      <td>Negative</td>\n",
              "      <td>@Microsoft Why do I pay for WORD when it funct...</td>\n",
              "    </tr>\n",
              "    <tr>\n",
              "      <th>2</th>\n",
              "      <td>4371</td>\n",
              "      <td>CS-GO</td>\n",
              "      <td>Negative</td>\n",
              "      <td>CSGO matchmaking is so full of closet hacking,...</td>\n",
              "    </tr>\n",
              "    <tr>\n",
              "      <th>3</th>\n",
              "      <td>4433</td>\n",
              "      <td>Google</td>\n",
              "      <td>Neutral</td>\n",
              "      <td>Now the President is slapping Americans in the...</td>\n",
              "    </tr>\n",
              "    <tr>\n",
              "      <th>4</th>\n",
              "      <td>6273</td>\n",
              "      <td>FIFA</td>\n",
              "      <td>Negative</td>\n",
              "      <td>Hi @EAHelp I’ve had Madeleine McCann in my cel...</td>\n",
              "    </tr>\n",
              "    <tr>\n",
              "      <th>5</th>\n",
              "      <td>7925</td>\n",
              "      <td>MaddenNFL</td>\n",
              "      <td>Positive</td>\n",
              "      <td>Thank you @EAMaddenNFL!! \\n\\nNew TE Austin Hoo...</td>\n",
              "    </tr>\n",
              "    <tr>\n",
              "      <th>6</th>\n",
              "      <td>11332</td>\n",
              "      <td>TomClancysRainbowSix</td>\n",
              "      <td>Positive</td>\n",
              "      <td>Rocket League, Sea of Thieves or Rainbow Six: ...</td>\n",
              "    </tr>\n",
              "    <tr>\n",
              "      <th>7</th>\n",
              "      <td>1107</td>\n",
              "      <td>AssassinsCreed</td>\n",
              "      <td>Positive</td>\n",
              "      <td>my ass still knee-deep in Assassins Creed Odys...</td>\n",
              "    </tr>\n",
              "    <tr>\n",
              "      <th>8</th>\n",
              "      <td>2069</td>\n",
              "      <td>CallOfDuty</td>\n",
              "      <td>Negative</td>\n",
              "      <td>FIX IT JESUS ! Please FIX IT ! What In the wor...</td>\n",
              "    </tr>\n",
              "    <tr>\n",
              "      <th>9</th>\n",
              "      <td>3185</td>\n",
              "      <td>Dota2</td>\n",
              "      <td>Positive</td>\n",
              "      <td>The professional dota 2 scene is fucking explo...</td>\n",
              "    </tr>\n",
              "  </tbody>\n",
              "</table>\n",
              "</div>\n",
              "      <button class=\"colab-df-convert\" onclick=\"convertToInteractive('df-a446ae2a-495c-4762-a11d-59842af64e59')\"\n",
              "              title=\"Convert this dataframe to an interactive table.\"\n",
              "              style=\"display:none;\">\n",
              "        \n",
              "  <svg xmlns=\"http://www.w3.org/2000/svg\" height=\"24px\"viewBox=\"0 0 24 24\"\n",
              "       width=\"24px\">\n",
              "    <path d=\"M0 0h24v24H0V0z\" fill=\"none\"/>\n",
              "    <path d=\"M18.56 5.44l.94 2.06.94-2.06 2.06-.94-2.06-.94-.94-2.06-.94 2.06-2.06.94zm-11 1L8.5 8.5l.94-2.06 2.06-.94-2.06-.94L8.5 2.5l-.94 2.06-2.06.94zm10 10l.94 2.06.94-2.06 2.06-.94-2.06-.94-.94-2.06-.94 2.06-2.06.94z\"/><path d=\"M17.41 7.96l-1.37-1.37c-.4-.4-.92-.59-1.43-.59-.52 0-1.04.2-1.43.59L10.3 9.45l-7.72 7.72c-.78.78-.78 2.05 0 2.83L4 21.41c.39.39.9.59 1.41.59.51 0 1.02-.2 1.41-.59l7.78-7.78 2.81-2.81c.8-.78.8-2.07 0-2.86zM5.41 20L4 18.59l7.72-7.72 1.47 1.35L5.41 20z\"/>\n",
              "  </svg>\n",
              "      </button>\n",
              "      \n",
              "  <style>\n",
              "    .colab-df-container {\n",
              "      display:flex;\n",
              "      flex-wrap:wrap;\n",
              "      gap: 12px;\n",
              "    }\n",
              "\n",
              "    .colab-df-convert {\n",
              "      background-color: #E8F0FE;\n",
              "      border: none;\n",
              "      border-radius: 50%;\n",
              "      cursor: pointer;\n",
              "      display: none;\n",
              "      fill: #1967D2;\n",
              "      height: 32px;\n",
              "      padding: 0 0 0 0;\n",
              "      width: 32px;\n",
              "    }\n",
              "\n",
              "    .colab-df-convert:hover {\n",
              "      background-color: #E2EBFA;\n",
              "      box-shadow: 0px 1px 2px rgba(60, 64, 67, 0.3), 0px 1px 3px 1px rgba(60, 64, 67, 0.15);\n",
              "      fill: #174EA6;\n",
              "    }\n",
              "\n",
              "    [theme=dark] .colab-df-convert {\n",
              "      background-color: #3B4455;\n",
              "      fill: #D2E3FC;\n",
              "    }\n",
              "\n",
              "    [theme=dark] .colab-df-convert:hover {\n",
              "      background-color: #434B5C;\n",
              "      box-shadow: 0px 1px 3px 1px rgba(0, 0, 0, 0.15);\n",
              "      filter: drop-shadow(0px 1px 2px rgba(0, 0, 0, 0.3));\n",
              "      fill: #FFFFFF;\n",
              "    }\n",
              "  </style>\n",
              "\n",
              "      <script>\n",
              "        const buttonEl =\n",
              "          document.querySelector('#df-a446ae2a-495c-4762-a11d-59842af64e59 button.colab-df-convert');\n",
              "        buttonEl.style.display =\n",
              "          google.colab.kernel.accessAllowed ? 'block' : 'none';\n",
              "\n",
              "        async function convertToInteractive(key) {\n",
              "          const element = document.querySelector('#df-a446ae2a-495c-4762-a11d-59842af64e59');\n",
              "          const dataTable =\n",
              "            await google.colab.kernel.invokeFunction('convertToInteractive',\n",
              "                                                     [key], {});\n",
              "          if (!dataTable) return;\n",
              "\n",
              "          const docLinkHtml = 'Like what you see? Visit the ' +\n",
              "            '<a target=\"_blank\" href=https://colab.research.google.com/notebooks/data_table.ipynb>data table notebook</a>'\n",
              "            + ' to learn more about interactive tables.';\n",
              "          element.innerHTML = '';\n",
              "          dataTable['output_type'] = 'display_data';\n",
              "          await google.colab.output.renderOutput(dataTable, element);\n",
              "          const docLink = document.createElement('div');\n",
              "          docLink.innerHTML = docLinkHtml;\n",
              "          element.appendChild(docLink);\n",
              "        }\n",
              "      </script>\n",
              "    </div>\n",
              "  </div>\n",
              "  "
            ]
          },
          "metadata": {},
          "execution_count": 6
        }
      ]
    },
    {
      "cell_type": "code",
      "source": [
        "data = data.drop(\"type\",axis=1)"
      ],
      "metadata": {
        "id": "PTVz-2wYtD6s"
      },
      "execution_count": null,
      "outputs": []
    },
    {
      "cell_type": "code",
      "source": [
        "data.topic.unique()\n",
        "\n",
        "data = data[(data.topic == \"Overwatch\") | (data.topic == \"AssassinsCreed\") | (data.topic == \"FIFA\") | (data.topic == \"Cyberpunk2077\") | (data.topic == \"CallOfDuty\")]\n",
        "\n",
        "print(len(data))\n",
        "data.head(10)\n",
        "data.topic.unique()\n",
        "\n",
        "data_v = data_v[(data_v.topic == \"Overwatch\") | (data_v.topic == \"AssassinsCreed\") | (data_v.topic == \"FIFA\") | (data_v.topic == \"Cyberpunk2077\") | (data_v.topic == \"CallOfDuty\")]\n",
        "\n",
        "print(len(data_v))"
      ],
      "metadata": {
        "id": "4eul-lNkirtv",
        "colab": {
          "base_uri": "https://localhost:8080/"
        },
        "outputId": "0abd0c38-349f-4d57-e760-9dc0b8dbccff"
      },
      "execution_count": null,
      "outputs": [
        {
          "output_type": "stream",
          "name": "stdout",
          "text": [
            "11616\n",
            "164\n"
          ]
        }
      ]
    },
    {
      "cell_type": "code",
      "source": [
        "f=data['topic'].value_counts()\n",
        "print((f*100)/f.sum())\n",
        "plt.pie(f,labels=[\"Overwatch\",\"AssassinsCreed\",\"FIFA\",\"Cyberpunk2077\",\"CallOfDuty\"],autopct='%1.1f%%',startangle=90)\n",
        "plt.show()"
      ],
      "metadata": {
        "colab": {
          "base_uri": "https://localhost:8080/",
          "height": 352
        },
        "id": "C31fa72okCHY",
        "outputId": "246175cc-1496-4646-a814-8f6ec26fc230"
      },
      "execution_count": null,
      "outputs": [
        {
          "output_type": "stream",
          "name": "stdout",
          "text": [
            "CallOfDuty        20.609504\n",
            "FIFA              20.144628\n",
            "Overwatch         20.092975\n",
            "Cyberpunk2077     19.834711\n",
            "AssassinsCreed    19.318182\n",
            "Name: topic, dtype: float64\n"
          ]
        },
        {
          "output_type": "display_data",
          "data": {
            "text/plain": [
              "<Figure size 432x288 with 1 Axes>"
            ],
            "image/png": "[encoded data removed]"
          },
          "metadata": {}
        }
      ]
    },
    {
      "cell_type": "code",
      "source": [
        "f_v=data_v['topic'].value_counts()\n",
        "print((f_v*100)/f_v.sum())\n",
        "plt.pie(f_v,labels=[\"Overwatch\",\"AssassinsCreed\",\"FIFA\",\"Cyberpunk2077\",\"CallOfDuty\"],autopct='%1.1f%%',startangle=90)\n",
        "plt.show()"
      ],
      "metadata": {
        "colab": {
          "base_uri": "https://localhost:8080/",
          "height": 352
        },
        "id": "-SpwA7hLvK60",
        "outputId": "c0d330b0-c238-4f3d-9d7d-1e43416df420"
      },
      "execution_count": null,
      "outputs": [
        {
          "output_type": "stream",
          "name": "stdout",
          "text": [
            "FIFA              23.170732\n",
            "AssassinsCreed    20.121951\n",
            "Overwatch         19.512195\n",
            "CallOfDuty        18.902439\n",
            "Cyberpunk2077     18.292683\n",
            "Name: topic, dtype: float64\n"
          ]
        },
        {
          "output_type": "display_data",
          "data": {
            "text/plain": [
              "<Figure size 432x288 with 1 Axes>"
            ],
            "image/png": "[encoded data removed]"
          },
          "metadata": {}
        }
      ]
    },
    {
      "cell_type": "code",
      "source": [
        "data.duplicated().sum()\n",
        "\n",
        "data_v.duplicated().sum()"
      ],
      "metadata": {
        "colab": {
          "base_uri": "https://localhost:8080/"
        },
        "id": "juZcZp3itobQ",
        "outputId": "f91bce15-c4a5-4c10-e297-de6972c87c58"
      },
      "execution_count": null,
      "outputs": [
        {
          "output_type": "execute_result",
          "data": {
            "text/plain": [
              "0"
            ]
          },
          "metadata": {},
          "execution_count": 11
        }
      ]
    },
    {
      "cell_type": "code",
      "source": [
        "data.drop_duplicates(inplace=True)"
      ],
      "metadata": {
        "id": "0j1yEVCZt0ZP"
      },
      "execution_count": null,
      "outputs": []
    },
    {
      "cell_type": "code",
      "source": [
        "import nltk\n",
        "nltk.download('stopwords')"
      ],
      "metadata": {
        "colab": {
          "base_uri": "https://localhost:8080/"
        },
        "id": "cJZpSnOhuNf7",
        "outputId": "c5f2fed9-d8d9-4dc5-9ad1-46713711cda9"
      },
      "execution_count": null,
      "outputs": [
        {
          "output_type": "stream",
          "name": "stderr",
          "text": [
            "[nltk_data] Downloading package stopwords to /root/nltk_data...\n",
            "[nltk_data]   Unzipping corpora/stopwords.zip.\n"
          ]
        },
        {
          "output_type": "execute_result",
          "data": {
            "text/plain": [
              "True"
            ]
          },
          "metadata": {},
          "execution_count": 13
        }
      ]
    },
    {
      "cell_type": "code",
      "source": [
        "REPLACE_WITH_SPACE = re.compile(\"(@)\")\n",
        "SPACE = \" \"\n",
        "from nltk.corpus import stopwords\n",
        "english_stop_words = stopwords.words('english')\n",
        "from nltk.stem.porter import PorterStemmer\n",
        "#1\n",
        "def reviews(reviews):  \n",
        "    reviews = [REPLACE_WITH_SPACE.sub(SPACE, str(line)) for line in reviews]\n",
        "    \n",
        "    return reviews\n",
        "#2\n",
        "def remove_stop_words(corpus):\n",
        "    removed_stop_words = []\n",
        "    for review in corpus:\n",
        "        removed_stop_words.append(\n",
        "            ' '.join([word for word in review.split()  if word not in english_stop_words]))\n",
        "    return removed_stop_words\n",
        "#3\n",
        "def get_stemmed_text(corpus):\n",
        "    stemmer = PorterStemmer()\n",
        "\n",
        "    return [' '.join([stemmer.stem(word) for word in review.split()]) for review in corpus]"
      ],
      "metadata": {
        "id": "2-OH2Wxxt4li"
      },
      "execution_count": null,
      "outputs": []
    },
    {
      "cell_type": "code",
      "source": [
        "conv_t = data[\"conversation\"]\n",
        "\n",
        "conv_v = data_v[\"conversation\"]\n",
        "\n",
        "target = data['topic']\n",
        "\n",
        "#1\n",
        "reviewt = reviews(conv_t)\n",
        "reviewv = reviews(conv_v)\n",
        "#2\n",
        "no_stop_words_t = remove_stop_words(reviewt)\n",
        "no_stop_words_v = remove_stop_words(reviewv)\n",
        "#3\n",
        "stemmed_reviews_t = get_stemmed_text(no_stop_words_t)\n",
        "stemmed_reviews_test = get_stemmed_text(no_stop_words_v)"
      ],
      "metadata": {
        "id": "flfti_WHuE8B"
      },
      "execution_count": null,
      "outputs": []
    },
    {
      "cell_type": "code",
      "source": [
        "from sklearn.feature_extraction.text import TfidfVectorizer\n",
        "\n",
        "tfidf_vectorizer = TfidfVectorizer()\n",
        "tfidf_vectorizer.fit(stemmed_reviews_t)\n",
        "X = tfidf_vectorizer.transform(stemmed_reviews_t)\n",
        "X_test = tfidf_vectorizer.transform(stemmed_reviews_test)"
      ],
      "metadata": {
        "id": "qOztYc0Vwt2z"
      },
      "execution_count": null,
      "outputs": []
    },
    {
      "cell_type": "code",
      "source": [
        "from sklearn.model_selection import train_test_split\n",
        "\n",
        "X_train, X_val, y_train, y_val = train_test_split(X, target, train_size = 0.8)"
      ],
      "metadata": {
        "id": "6qI2bZjqvZ01"
      },
      "execution_count": null,
      "outputs": []
    },
    {
      "cell_type": "code",
      "source": [
        "from sklearn.ensemble import RandomForestClassifier\n",
        "from sklearn.metrics import classification_report\n",
        "\n",
        "text_classifier = RandomForestClassifier(n_estimators=50, random_state=0)\n",
        "text_classifier.fit(X_train, y_train)\n",
        "\n",
        "y_pred=text_classifier.predict(X_val)\n",
        "print(\"y_pred: \\n\",y_pred)\n",
        "print(classification_report(y_val,y_pred))"
      ],
      "metadata": {
        "colab": {
          "base_uri": "https://localhost:8080/"
        },
        "id": "8_zzMJ7Ew1Xi",
        "outputId": "f9a329f4-2e5b-4351-a833-46ffd9798238"
      },
      "execution_count": null,
      "outputs": [
        {
          "output_type": "stream",
          "name": "stdout",
          "text": [
            "y_pred: \n",
            " ['FIFA' 'CallOfDuty' 'CallOfDuty' ... 'Overwatch' 'FIFA' 'FIFA']\n",
            "                precision    recall  f1-score   support\n",
            "\n",
            "AssassinsCreed       0.93      0.93      0.93       432\n",
            "    CallOfDuty       0.95      0.94      0.95       481\n",
            " Cyberpunk2077       0.90      0.92      0.91       415\n",
            "          FIFA       0.98      0.91      0.95       445\n",
            "     Overwatch       0.89      0.94      0.92       457\n",
            "\n",
            "      accuracy                           0.93      2230\n",
            "     macro avg       0.93      0.93      0.93      2230\n",
            "  weighted avg       0.93      0.93      0.93      2230\n",
            "\n"
          ]
        }
      ]
    },
    {
      "cell_type": "code",
      "source": [
        "from sklearn.neural_network import MLPClassifier\n",
        "\n",
        "clf = MLPClassifier(solver='adam', alpha=1e-5, hidden_layer_sizes=(50,), random_state=1,max_iter=1000)"
      ],
      "metadata": {
        "id": "YDN-aIAnw6Ev"
      },
      "execution_count": null,
      "outputs": []
    },
    {
      "cell_type": "code",
      "source": [
        "clf.fit(X_train,y_train)"
      ],
      "metadata": {
        "colab": {
          "base_uri": "https://localhost:8080/"
        },
        "id": "YXbsLHlnxmpc",
        "outputId": "d0de4837-504c-4b76-b52c-5f467c95d05b"
      },
      "execution_count": null,
      "outputs": [
        {
          "output_type": "execute_result",
          "data": {
            "text/plain": [
              "MLPClassifier(alpha=1e-05, hidden_layer_sizes=(50,), max_iter=1000,\n",
              "              random_state=1)"
            ]
          },
          "metadata": {},
          "execution_count": 20
        }
      ]
    },
    {
      "cell_type": "code",
      "source": [
        "prediction = clf.predict(X_val)\n",
        "print(classification_report(y_val,prediction))"
      ],
      "metadata": {
        "colab": {
          "base_uri": "https://localhost:8080/"
        },
        "id": "GSfytgnCxvEb",
        "outputId": "49eefee6-384b-4d41-b309-b01fb9c93976"
      },
      "execution_count": null,
      "outputs": [
        {
          "output_type": "stream",
          "name": "stdout",
          "text": [
            "                precision    recall  f1-score   support\n",
            "\n",
            "AssassinsCreed       0.93      0.92      0.93       432\n",
            "    CallOfDuty       0.93      0.93      0.93       481\n",
            " Cyberpunk2077       0.93      0.90      0.92       415\n",
            "          FIFA       0.96      0.93      0.95       445\n",
            "     Overwatch       0.89      0.96      0.92       457\n",
            "\n",
            "      accuracy                           0.93      2230\n",
            "     macro avg       0.93      0.93      0.93      2230\n",
            "  weighted avg       0.93      0.93      0.93      2230\n",
            "\n"
          ]
        }
      ]
    },
    {
      "cell_type": "markdown",
      "source": [
        "Neural Networks"
      ],
      "metadata": {
        "id": "lGRBljtm05m9"
      }
    },
    {
      "cell_type": "code",
      "source": [],
      "metadata": {
        "id": "VobIoagPmyJh"
      },
      "execution_count": null,
      "outputs": []
    },
    {
      "cell_type": "markdown",
      "source": [
        "\n",
        "\n",
        "EX - 1\n",
        "\n"
      ],
      "metadata": {
        "id": "mQ8UkIuMBC-J"
      }
    },
    {
      "cell_type": "code",
      "source": [
        "data['label_id'] = data['topic'].factorize()[0]\n",
        "cat_id = data[['topic', 'label_id']].drop_duplicates().sort_values('label_id')\n",
        "cat_to_id = dict(cat_id.values)\n",
        "id_to_cat = dict(cat_id[['label_id', 'topic']].values)\n",
        "\n",
        "\n",
        "id_to_cat"
      ],
      "metadata": {
        "colab": {
          "base_uri": "https://localhost:8080/"
        },
        "id": "O22H6oOYmzOQ",
        "outputId": "30fc4bd1-02db-4b05-c6f4-15e7225f8e99"
      },
      "execution_count": null,
      "outputs": [
        {
          "output_type": "execute_result",
          "data": {
            "text/plain": [
              "{0: 'Overwatch',\n",
              " 1: 'AssassinsCreed',\n",
              " 2: 'FIFA',\n",
              " 3: 'CallOfDuty',\n",
              " 4: 'Cyberpunk2077'}"
            ]
          },
          "metadata": {},
          "execution_count": 22
        }
      ]
    },
    {
      "cell_type": "code",
      "source": [
        "label = data['label_id'].values\n",
        "text = data['conversation'].values\n",
        "\n",
        "print('Value of [label]:', label, \"\\n\")\n",
        "print('Value of [text]:', text)"
      ],
      "metadata": {
        "colab": {
          "base_uri": "https://localhost:8080/"
        },
        "id": "ljFhdrHCnUSK",
        "outputId": "71611cd4-d92d-42d5-e460-ed1b35c583c0"
      },
      "execution_count": null,
      "outputs": [
        {
          "output_type": "stream",
          "name": "stdout",
          "text": [
            "Value of [label]: [0 0 0 ... 4 4 4] \n",
            "\n",
            "Value of [text]: [\"Had a fun ti8me being trash buddies with @Fauwxx on Overwatch. Can't wait to see what other shenanigans we get up to\"\n",
            " \"Had fun being trash buddies with @ Fauwxx on Overwatch. I can't wait to see what else we do.\"\n",
            " \"Had a fun ti8me being trash buddies with @ wonderwatch. Can't wait to see what other shenanigans we get up to\"\n",
            " ...\n",
            " \"(Cyber)Punk's not there. Yet... Just told Magda, that I want neons.. A lot of neons.. I got them.. and the view!.. Pic | site: Mesarthim Photo and Retouch..\"\n",
            " \"( and Cyber ) Punk's right not dropping dead. Yet... I told Magda, that really I want a neons.. A lot of neons.. I already got half them.. because Enjoy the view!.. Pic and edit : John Mesarthim Photo and Digital Retouch..\"\n",
            " \"(Cyber)Punk's not dead. Yet... We told someone, If we want neons.. lot lot cheap neons.. I got them.. Enjoy this view!.. Photographer and colour: Mesarthim Photo and colour..\"]\n"
          ]
        }
      ]
    },
    {
      "cell_type": "code",
      "source": [
        "maxfeatures = 10000\n",
        "\n",
        "#tokenization\n",
        "from keras.preprocessing.text import Tokenizer\n",
        "tokenizer = Tokenizer(num_words = maxfeatures)\n",
        "for i in range(len(text)):\n",
        "  text[i] = str(text[i])\n",
        "  \n",
        "tokenizer.fit_on_texts(text)"
      ],
      "metadata": {
        "id": "Mz37jxIwnZVK"
      },
      "execution_count": null,
      "outputs": []
    },
    {
      "cell_type": "code",
      "source": [
        "maxseqlen = max([len(i.split()) for i in text])\n",
        "print(maxseqlen)"
      ],
      "metadata": {
        "colab": {
          "base_uri": "https://localhost:8080/"
        },
        "id": "QQBbO6Ccnhk2",
        "outputId": "381e59c0-b2cb-42d7-edb3-6e48e6423993"
      },
      "execution_count": null,
      "outputs": [
        {
          "output_type": "stream",
          "name": "stdout",
          "text": [
            "194\n"
          ]
        }
      ]
    },
    {
      "cell_type": "code",
      "source": [
        "from keras_preprocessing.sequence import pad_sequences\n",
        "from keras.utils.np_utils import to_categorical\n",
        "\n",
        "X = tokenizer.texts_to_sequences(text)\n",
        "X = pad_sequences(X, maxseqlen)\n",
        "y = to_categorical(label, num_classes = 5)\n",
        "\n",
        "print(\"Shape of data tensor ['text']:\", X.shape)\n",
        "print(\"Shape of data tensor ['label']:\", y.shape)"
      ],
      "metadata": {
        "colab": {
          "base_uri": "https://localhost:8080/"
        },
        "id": "W_NvqBCDnqoB",
        "outputId": "cf79c2a7-b3ac-4ff0-bce1-963cdc5e5d03"
      },
      "execution_count": null,
      "outputs": [
        {
          "output_type": "stream",
          "name": "stdout",
          "text": [
            "Shape of data tensor ['text']: (11149, 194)\n",
            "Shape of data tensor ['label']: (11149, 5)\n"
          ]
        }
      ]
    },
    {
      "cell_type": "code",
      "source": [
        "from sklearn.model_selection import train_test_split\n",
        "\n",
        "Xtrain, Xtest, ytrain, ytest = train_test_split(X, y, test_size=0.2, random_state=42)\n",
        "\n",
        "print(Xtrain.shape, ytrain.shape)\n",
        "print(Xtest.shape, ytest.shape)"
      ],
      "metadata": {
        "colab": {
          "base_uri": "https://localhost:8080/"
        },
        "id": "RPyPR7izn8Ad",
        "outputId": "da9d151f-b2a3-4336-c703-4240d2f150fb"
      },
      "execution_count": null,
      "outputs": [
        {
          "output_type": "stream",
          "name": "stdout",
          "text": [
            "(8919, 194) (8919, 5)\n",
            "(2230, 194) (2230, 5)\n"
          ]
        }
      ]
    },
    {
      "cell_type": "code",
      "source": [
        "from tensorflow.keras.models import Sequential\n",
        "from tensorflow.keras.layers import LSTM, Dropout, Embedding, Dense, GlobalMaxPool1D\n",
        "from tensorflow.keras.optimizers import RMSprop\n",
        "\n",
        "model = Sequential()\n",
        "model.add(Embedding(input_dim = maxfeatures, output_dim = 128, input_length = maxseqlen))\n",
        "model.add(LSTM(128, return_sequences = True))\n",
        "model.add(GlobalMaxPool1D())\n",
        "model.add(Dense(64, activation='relu'))\n",
        "model.add(Dropout(0.1))\n",
        "model.add(Dense(16, activation='relu'))\n",
        "model.add(Dropout(0.1))\n",
        "model.add(Dense(5, activation='softmax'))\n",
        "\n",
        "\n",
        "opt = RMSprop(learning_rate=0.0012, rho=0.7, momentum=0.5)\n",
        "model.compile(optimizer=opt, loss='categorical_crossentropy', metrics=['accuracy'])\n",
        "model.summary()"
      ],
      "metadata": {
        "colab": {
          "base_uri": "https://localhost:8080/"
        },
        "id": "ULbDWwflsSEA",
        "outputId": "aefb6449-250d-4c7e-bb23-04220fc3ef63"
      },
      "execution_count": null,
      "outputs": [
        {
          "output_type": "stream",
          "name": "stdout",
          "text": [
            "Model: \"sequential\"\n",
            "_________________________________________________________________\n",
            " Layer (type)                Output Shape              Param #   \n",
            "=================================================================\n",
            " embedding (Embedding)       (None, 194, 128)          1280000   \n",
            "                                                                 \n",
            " lstm (LSTM)                 (None, 194, 128)          131584    \n",
            "                                                                 \n",
            " global_max_pooling1d (Globa  (None, 128)              0         \n",
            " lMaxPooling1D)                                                  \n",
            "                                                                 \n",
            " dense (Dense)               (None, 64)                8256      \n",
            "                                                                 \n",
            " dropout (Dropout)           (None, 64)                0         \n",
            "                                                                 \n",
            " dense_1 (Dense)             (None, 16)                1040      \n",
            "                                                                 \n",
            " dropout_1 (Dropout)         (None, 16)                0         \n",
            "                                                                 \n",
            " dense_2 (Dense)             (None, 5)                 85        \n",
            "                                                                 \n",
            "=================================================================\n",
            "Total params: 1,420,965\n",
            "Trainable params: 1,420,965\n",
            "Non-trainable params: 0\n",
            "_________________________________________________________________\n"
          ]
        }
      ]
    },
    {
      "cell_type": "code",
      "source": [
        "from keras.callbacks import EarlyStopping\n",
        "\n",
        "early_stop = EarlyStopping(monitor = 'val_accuracy', patience = 3)"
      ],
      "metadata": {
        "id": "U_w4Ir6rtTYL"
      },
      "execution_count": null,
      "outputs": []
    },
    {
      "cell_type": "code",
      "source": [
        "history = model.fit(Xtrain, ytrain,batch_size = 100, epochs = 20, shuffle = True,validation_split = 0.15, verbose = 1,callbacks=early_stop)"
      ],
      "metadata": {
        "colab": {
          "base_uri": "https://localhost:8080/"
        },
        "id": "SMO4O1HRtXpZ",
        "outputId": "6dc56fe1-63bc-4c62-91f0-64eaf0de0d72"
      },
      "execution_count": null,
      "outputs": [
        {
          "output_type": "stream",
          "name": "stdout",
          "text": [
            "Epoch 1/20\n",
            "76/76 [==============================] - 53s 660ms/step - loss: 1.4016 - accuracy: 0.3823 - val_loss: 0.9061 - val_accuracy: 0.6181\n",
            "Epoch 2/20\n",
            "76/76 [==============================] - 50s 652ms/step - loss: 0.7132 - accuracy: 0.7118 - val_loss: 0.5331 - val_accuracy: 0.8094\n",
            "Epoch 3/20\n",
            "76/76 [==============================] - 48s 633ms/step - loss: 0.4187 - accuracy: 0.8442 - val_loss: 0.4382 - val_accuracy: 0.8445\n",
            "Epoch 4/20\n",
            "76/76 [==============================] - 50s 657ms/step - loss: 0.3032 - accuracy: 0.8945 - val_loss: 0.4077 - val_accuracy: 0.8610\n",
            "Epoch 5/20\n",
            "76/76 [==============================] - 48s 631ms/step - loss: 0.2321 - accuracy: 0.9215 - val_loss: 0.3586 - val_accuracy: 0.8767\n",
            "Epoch 6/20\n",
            "76/76 [==============================] - 49s 643ms/step - loss: 0.1917 - accuracy: 0.9346 - val_loss: 0.3734 - val_accuracy: 0.8804\n",
            "Epoch 7/20\n",
            "76/76 [==============================] - 48s 636ms/step - loss: 0.1629 - accuracy: 0.9433 - val_loss: 0.3614 - val_accuracy: 0.8924\n",
            "Epoch 8/20\n",
            "76/76 [==============================] - 49s 640ms/step - loss: 0.1372 - accuracy: 0.9533 - val_loss: 0.3796 - val_accuracy: 0.8954\n",
            "Epoch 9/20\n",
            "76/76 [==============================] - 49s 645ms/step - loss: 0.1236 - accuracy: 0.9552 - val_loss: 0.3723 - val_accuracy: 0.8954\n",
            "Epoch 10/20\n",
            "76/76 [==============================] - 51s 669ms/step - loss: 0.1148 - accuracy: 0.9599 - val_loss: 0.3576 - val_accuracy: 0.8999\n",
            "Epoch 11/20\n",
            "76/76 [==============================] - 49s 647ms/step - loss: 0.1072 - accuracy: 0.9627 - val_loss: 0.3297 - val_accuracy: 0.8969\n",
            "Epoch 12/20\n",
            "76/76 [==============================] - 49s 645ms/step - loss: 0.0974 - accuracy: 0.9645 - val_loss: 0.3658 - val_accuracy: 0.9021\n",
            "Epoch 13/20\n",
            "76/76 [==============================] - 49s 648ms/step - loss: 0.0957 - accuracy: 0.9652 - val_loss: 0.3215 - val_accuracy: 0.9043\n",
            "Epoch 14/20\n",
            "76/76 [==============================] - 48s 637ms/step - loss: 0.0948 - accuracy: 0.9631 - val_loss: 0.4058 - val_accuracy: 0.8946\n",
            "Epoch 15/20\n",
            "76/76 [==============================] - 48s 637ms/step - loss: 0.0923 - accuracy: 0.9649 - val_loss: 0.3498 - val_accuracy: 0.9058\n",
            "Epoch 16/20\n",
            "76/76 [==============================] - 50s 663ms/step - loss: 0.0887 - accuracy: 0.9656 - val_loss: 0.4563 - val_accuracy: 0.8954\n",
            "Epoch 17/20\n",
            "76/76 [==============================] - 48s 633ms/step - loss: 0.0866 - accuracy: 0.9672 - val_loss: 0.3903 - val_accuracy: 0.8984\n",
            "Epoch 18/20\n",
            "76/76 [==============================] - 49s 648ms/step - loss: 0.0784 - accuracy: 0.9687 - val_loss: 0.4488 - val_accuracy: 0.8976\n"
          ]
        }
      ]
    },
    {
      "cell_type": "code",
      "source": [
        "plt.plot (history.history['accuracy'])\n",
        "plt.plot (history.history['val_accuracy'])\n",
        "\n",
        "plt.title('model accuracy')\n",
        "plt.ylabel('accuracy')\n",
        "plt.xlabel('epoch')\n",
        "\n",
        "plt.legend(['acc', 'val_acc'], loc='upper left')\n",
        "plt.show()"
      ],
      "metadata": {
        "colab": {
          "base_uri": "https://localhost:8080/",
          "height": 295
        },
        "id": "58oi6Szrw3Nk",
        "outputId": "13268dbc-8364-4e47-9c97-c068d3765a3d"
      },
      "execution_count": null,
      "outputs": [
        {
          "output_type": "display_data",
          "data": {
            "text/plain": [
              "<Figure size 432x288 with 1 Axes>"
            ],
            "image/png": "[encoded data removed]"
          },
          "metadata": {
            "needs_background": "light"
          }
        }
      ]
    },
    {
      "cell_type": "code",
      "source": [
        "from sklearn.metrics import accuracy_score\n",
        "\n",
        "def evaluation(model, X, Y):\n",
        "  global Y_pred, Y_act\n",
        "  Y_pred = model.predict(X)\n",
        "  Y_pred_class = np.argmax(Y_pred, axis=1)\n",
        "  rounded_labels=np.argmax(Y, axis=1)\n",
        "  Y_act = rounded_labels\n",
        "  \n",
        "  accuracy = accuracy_score(Y_act, Y_pred_class)\n",
        "  return accuracy\n",
        "\n",
        "accuracy = evaluation(model, Xtest, ytest)\n",
        "print('accuracy: %.3f' % (accuracy * 100), '%')"
      ],
      "metadata": {
        "colab": {
          "base_uri": "https://localhost:8080/"
        },
        "id": "Wr5kuWUuw9Bw",
        "outputId": "93d4d96b-dbd5-4e36-fde5-71b524aa3f63"
      },
      "execution_count": null,
      "outputs": [
        {
          "output_type": "stream",
          "name": "stdout",
          "text": [
            "70/70 [==============================] - 8s 107ms/step\n",
            "accuracy: 89.641 %\n"
          ]
        }
      ]
    },
    {
      "cell_type": "code",
      "source": [
        "from sklearn.metrics import confusion_matrix, classification_report\n",
        "\n",
        "target = [\"OW\",\"AC\",\"FIFA\",\"CP2077\",\"COD\"]\n",
        "print(confusion_matrix(Y_act, np.argmax(Y_pred, axis=1)))\n",
        "print(classification_report(Y_act, np.argmax(Y_pred, axis = 1), target_names = target))"
      ],
      "metadata": {
        "colab": {
          "base_uri": "https://localhost:8080/"
        },
        "id": "etKC7ywexGDB",
        "outputId": "00f61b18-6ef0-48f4-cb30-e7845765980b"
      },
      "execution_count": null,
      "outputs": [
        {
          "output_type": "stream",
          "name": "stdout",
          "text": [
            "[[409   4  20  10   9]\n",
            " [ 11 392  17   9  13]\n",
            " [ 18   8 405   1   3]\n",
            " [ 24   9  14 437   7]\n",
            " [ 21   8  16   9 356]]\n",
            "              precision    recall  f1-score   support\n",
            "\n",
            "          OW       0.85      0.90      0.87       452\n",
            "          AC       0.93      0.89      0.91       442\n",
            "        FIFA       0.86      0.93      0.89       435\n",
            "      CP2077       0.94      0.89      0.91       491\n",
            "         COD       0.92      0.87      0.89       410\n",
            "\n",
            "    accuracy                           0.90      2230\n",
            "   macro avg       0.90      0.90      0.90      2230\n",
            "weighted avg       0.90      0.90      0.90      2230\n",
            "\n"
          ]
        }
      ]
    },
    {
      "cell_type": "code",
      "source": [
        "import matplotlib.pyplot as plt\n",
        "plt.style.use('ggplot')\n",
        "\n",
        "def plot_history(history):\n",
        "    acc = history.history['accuracy']\n",
        "    val_acc = history.history['val_accuracy']\n",
        "    loss = history.history['loss']\n",
        "    val_loss = history.history['val_loss']\n",
        "    x = range(1, len(acc) + 1)\n",
        "\n",
        "    plt.figure(figsize=(12, 5))\n",
        "    plt.subplot(1, 2, 1)\n",
        "    plt.plot(x, acc, 'b', label='Training acc')\n",
        "    plt.plot(x, val_acc, 'r', label='Validation acc')\n",
        "    plt.title('Training and validation accuracy')\n",
        "    plt.legend()\n",
        "    plt.subplot(1, 2, 2)\n",
        "    plt.plot(x, loss, 'b', label='Training loss')\n",
        "    plt.plot(x, val_loss, 'r', label='Validation loss')\n",
        "    plt.title('Training and validation loss')\n",
        "    plt.legend()"
      ],
      "metadata": {
        "id": "SXZcsd-ErmyO"
      },
      "execution_count": null,
      "outputs": []
    },
    {
      "cell_type": "code",
      "source": [
        "plot_history(history)"
      ],
      "metadata": {
        "colab": {
          "base_uri": "https://localhost:8080/",
          "height": 337
        },
        "id": "LLzmso3XrnXV",
        "outputId": "ea6e2bfd-5085-4c50-8e87-d8d582860a82"
      },
      "execution_count": null,
      "outputs": [
        {
          "output_type": "display_data",
          "data": {
            "text/plain": [
              "<Figure size 864x360 with 2 Axes>"
            ],
            "image/png": "[encoded data removed]"
          },
          "metadata": {}
        }
      ]
    }
  ]
}