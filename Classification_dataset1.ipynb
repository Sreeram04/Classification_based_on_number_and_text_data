{
 "cells": [
  {
   "cell_type": "code",
   "execution_count": 15,
   "id": "11a1e743",
   "metadata": {},
   "outputs": [],
   "source": [
    "import numpy as np\n",
    "import pandas as pd"
   ]
  },
  {
   "cell_type": "code",
   "execution_count": 16,
   "id": "efb0f233",
   "metadata": {},
   "outputs": [
    {
     "data": {
      "text/plain": [
       "500000"
      ]
     },
     "execution_count": 16,
     "metadata": {},
     "output_type": "execute_result"
    }
   ],
   "source": [
    "data=pd.read_csv('D:\\VIT 5th sem\\Classification of Robots from their conversation sequence.csv')\n",
    "len(data)"
   ]
  },
  {
   "cell_type": "code",
   "execution_count": 17,
   "id": "bf8110e0",
   "metadata": {},
   "outputs": [],
   "source": [
    "#data = data.iloc[:50000]"
   ]
  },
  {
   "cell_type": "code",
   "execution_count": 18,
   "id": "0a007048",
   "metadata": {},
   "outputs": [
    {
     "data": {
      "text/html": [
       "<div>\n",
       "<style scoped>\n",
       "    .dataframe tbody tr th:only-of-type {\n",
       "        vertical-align: middle;\n",
       "    }\n",
       "\n",
       "    .dataframe tbody tr th {\n",
       "        vertical-align: top;\n",
       "    }\n",
       "\n",
       "    .dataframe thead th {\n",
       "        text-align: right;\n",
       "    }\n",
       "</style>\n",
       "<table border=\"1\" class=\"dataframe\">\n",
       "  <thead>\n",
       "    <tr style=\"text-align: right;\">\n",
       "      <th></th>\n",
       "      <th>source</th>\n",
       "      <th>num1</th>\n",
       "      <th>num2</th>\n",
       "      <th>num3</th>\n",
       "      <th>num4</th>\n",
       "      <th>num5</th>\n",
       "      <th>num6</th>\n",
       "      <th>num7</th>\n",
       "      <th>num8</th>\n",
       "      <th>num9</th>\n",
       "      <th>num10</th>\n",
       "    </tr>\n",
       "  </thead>\n",
       "  <tbody>\n",
       "    <tr>\n",
       "      <th>0</th>\n",
       "      <td>0</td>\n",
       "      <td>2</td>\n",
       "      <td>5</td>\n",
       "      <td>2</td>\n",
       "      <td>5</td>\n",
       "      <td>6</td>\n",
       "      <td>2</td>\n",
       "      <td>1</td>\n",
       "      <td>8</td>\n",
       "      <td>1</td>\n",
       "      <td>3</td>\n",
       "    </tr>\n",
       "    <tr>\n",
       "      <th>1</th>\n",
       "      <td>1</td>\n",
       "      <td>1747</td>\n",
       "      <td>1749</td>\n",
       "      <td>1751</td>\n",
       "      <td>1758</td>\n",
       "      <td>1765</td>\n",
       "      <td>1767</td>\n",
       "      <td>1772</td>\n",
       "      <td>1774</td>\n",
       "      <td>1783</td>\n",
       "      <td>1785</td>\n",
       "    </tr>\n",
       "    <tr>\n",
       "      <th>2</th>\n",
       "      <td>2</td>\n",
       "      <td>65056</td>\n",
       "      <td>195168</td>\n",
       "      <td>1561344</td>\n",
       "      <td>7806720</td>\n",
       "      <td>31226880</td>\n",
       "      <td>187361280</td>\n",
       "      <td>749445120</td>\n",
       "      <td>6745006080</td>\n",
       "      <td>6745006080</td>\n",
       "      <td>6745006080</td>\n",
       "    </tr>\n",
       "    <tr>\n",
       "      <th>3</th>\n",
       "      <td>3</td>\n",
       "      <td>2855</td>\n",
       "      <td>2860</td>\n",
       "      <td>2865</td>\n",
       "      <td>2870</td>\n",
       "      <td>2875</td>\n",
       "      <td>2880</td>\n",
       "      <td>2885</td>\n",
       "      <td>2890</td>\n",
       "      <td>2895</td>\n",
       "      <td>2900</td>\n",
       "    </tr>\n",
       "    <tr>\n",
       "      <th>4</th>\n",
       "      <td>4</td>\n",
       "      <td>11440</td>\n",
       "      <td>57200</td>\n",
       "      <td>286000</td>\n",
       "      <td>1430000</td>\n",
       "      <td>7150000</td>\n",
       "      <td>35750000</td>\n",
       "      <td>178750000</td>\n",
       "      <td>893750000</td>\n",
       "      <td>4468750000</td>\n",
       "      <td>22343750000</td>\n",
       "    </tr>\n",
       "    <tr>\n",
       "      <th>5</th>\n",
       "      <td>0</td>\n",
       "      <td>4</td>\n",
       "      <td>9</td>\n",
       "      <td>5</td>\n",
       "      <td>4</td>\n",
       "      <td>8</td>\n",
       "      <td>6</td>\n",
       "      <td>6</td>\n",
       "      <td>7</td>\n",
       "      <td>7</td>\n",
       "      <td>2</td>\n",
       "    </tr>\n",
       "    <tr>\n",
       "      <th>6</th>\n",
       "      <td>1</td>\n",
       "      <td>1487</td>\n",
       "      <td>1491</td>\n",
       "      <td>1498</td>\n",
       "      <td>1503</td>\n",
       "      <td>1512</td>\n",
       "      <td>1514</td>\n",
       "      <td>1518</td>\n",
       "      <td>1522</td>\n",
       "      <td>1524</td>\n",
       "      <td>1528</td>\n",
       "    </tr>\n",
       "    <tr>\n",
       "      <th>7</th>\n",
       "      <td>2</td>\n",
       "      <td>18850</td>\n",
       "      <td>18850</td>\n",
       "      <td>113100</td>\n",
       "      <td>452400</td>\n",
       "      <td>452400</td>\n",
       "      <td>1809600</td>\n",
       "      <td>3619200</td>\n",
       "      <td>3619200</td>\n",
       "      <td>7238400</td>\n",
       "      <td>50668800</td>\n",
       "    </tr>\n",
       "    <tr>\n",
       "      <th>8</th>\n",
       "      <td>3</td>\n",
       "      <td>8962</td>\n",
       "      <td>8967</td>\n",
       "      <td>8972</td>\n",
       "      <td>8977</td>\n",
       "      <td>8982</td>\n",
       "      <td>8987</td>\n",
       "      <td>8992</td>\n",
       "      <td>8997</td>\n",
       "      <td>9002</td>\n",
       "      <td>9007</td>\n",
       "    </tr>\n",
       "    <tr>\n",
       "      <th>9</th>\n",
       "      <td>4</td>\n",
       "      <td>2870</td>\n",
       "      <td>14350</td>\n",
       "      <td>71750</td>\n",
       "      <td>358750</td>\n",
       "      <td>1793750</td>\n",
       "      <td>8968750</td>\n",
       "      <td>44843750</td>\n",
       "      <td>224218750</td>\n",
       "      <td>1121093750</td>\n",
       "      <td>5605468750</td>\n",
       "    </tr>\n",
       "  </tbody>\n",
       "</table>\n",
       "</div>"
      ],
      "text/plain": [
       "   source   num1    num2     num3     num4      num5       num6       num7  \\\n",
       "0       0      2       5        2        5         6          2          1   \n",
       "1       1   1747    1749     1751     1758      1765       1767       1772   \n",
       "2       2  65056  195168  1561344  7806720  31226880  187361280  749445120   \n",
       "3       3   2855    2860     2865     2870      2875       2880       2885   \n",
       "4       4  11440   57200   286000  1430000   7150000   35750000  178750000   \n",
       "5       0      4       9        5        4         8          6          6   \n",
       "6       1   1487    1491     1498     1503      1512       1514       1518   \n",
       "7       2  18850   18850   113100   452400    452400    1809600    3619200   \n",
       "8       3   8962    8967     8972     8977      8982       8987       8992   \n",
       "9       4   2870   14350    71750   358750   1793750    8968750   44843750   \n",
       "\n",
       "         num8        num9        num10  \n",
       "0           8           1            3  \n",
       "1        1774        1783         1785  \n",
       "2  6745006080  6745006080   6745006080  \n",
       "3        2890        2895         2900  \n",
       "4   893750000  4468750000  22343750000  \n",
       "5           7           7            2  \n",
       "6        1522        1524         1528  \n",
       "7     3619200     7238400     50668800  \n",
       "8        8997        9002         9007  \n",
       "9   224218750  1121093750   5605468750  "
      ]
     },
     "execution_count": 18,
     "metadata": {},
     "output_type": "execute_result"
    }
   ],
   "source": [
    "data.head(10)"
   ]
  },
  {
   "cell_type": "code",
   "execution_count": 19,
   "id": "e130a7fd",
   "metadata": {},
   "outputs": [],
   "source": [
    "from sklearn.neural_network import MLPClassifier # neural network\n",
    "from sklearn.model_selection import train_test_split\n",
    "from sklearn import metrics"
   ]
  },
  {
   "cell_type": "code",
   "execution_count": 20,
   "id": "6036c3b7",
   "metadata": {},
   "outputs": [],
   "source": [
    "train, test = train_test_split(data, test_size = 0.3)\n",
    "trainX = train[[\"num1\",\"num2\",\"num3\",\"num4\",\"num5\",\"num6\",\"num7\",\"num8\",\"num9\",\"num10\"]]\n",
    "trainY = train.source\n",
    "testX = test[[\"num1\",\"num2\",\"num3\",\"num4\",\"num5\",\"num6\",\"num7\",\"num8\",\"num9\",\"num10\"]] \n",
    "testY = test.source"
   ]
  },
  {
   "cell_type": "code",
   "execution_count": 21,
   "id": "c0a1a35d",
   "metadata": {},
   "outputs": [],
   "source": [
    "from sklearn import preprocessing"
   ]
  },
  {
   "cell_type": "code",
   "execution_count": 22,
   "id": "46ab8f38",
   "metadata": {},
   "outputs": [],
   "source": [
    "min_max_scaler = preprocessing.MinMaxScaler()\n",
    "\n",
    "X_train_minmax = min_max_scaler.fit_transform(trainX)\n",
    "#Y_train_minmax = min_max_scaler.fit_transform(trainY)"
   ]
  },
  {
   "cell_type": "code",
   "execution_count": 23,
   "id": "9a65ce4c",
   "metadata": {},
   "outputs": [],
   "source": [
    "clf = MLPClassifier(solver='adam', alpha=1e-5, hidden_layer_sizes=(60,), random_state=1,max_iter=800)"
   ]
  },
  {
   "cell_type": "code",
   "execution_count": 24,
   "id": "ba6a4d07",
   "metadata": {},
   "outputs": [
    {
     "data": {
      "text/plain": [
       "MLPClassifier(alpha=1e-05, hidden_layer_sizes=(60,), max_iter=800,\n",
       "              random_state=1)"
      ]
     },
     "execution_count": 24,
     "metadata": {},
     "output_type": "execute_result"
    }
   ],
   "source": [
    "clf.fit(X_train_minmax, trainY)"
   ]
  },
  {
   "cell_type": "code",
   "execution_count": 25,
   "id": "08129175",
   "metadata": {},
   "outputs": [],
   "source": [
    "X_test_minmax = min_max_scaler.fit_transform(testX)"
   ]
  },
  {
   "cell_type": "code",
   "execution_count": 26,
   "id": "aed4c476",
   "metadata": {},
   "outputs": [
    {
     "name": "stdout",
     "output_type": "stream",
     "text": [
      "The accuracy of the Multi-layer Perceptron is: 0.7967266666666667\n"
     ]
    }
   ],
   "source": [
    "prediction = clf.predict(X_test_minmax)\n",
    "print('The accuracy of the Multi-layer Perceptron is:',metrics.accuracy_score(prediction,testY))"
   ]
  },
  {
   "cell_type": "code",
   "execution_count": 27,
   "id": "07fdf8f2",
   "metadata": {},
   "outputs": [
    {
     "data": {
      "text/plain": [
       "array([1, 1, 1, 2, 2, 1, 2, 1, 2, 1, 1, 1, 1, 1, 0, 4, 4, 1, 4, 1],\n",
       "      dtype=int64)"
      ]
     },
     "execution_count": 27,
     "metadata": {},
     "output_type": "execute_result"
    }
   ],
   "source": [
    "prediction[10:30]"
   ]
  },
  {
   "cell_type": "code",
   "execution_count": 28,
   "id": "180534f4",
   "metadata": {},
   "outputs": [
    {
     "data": {
      "text/plain": [
       "397856    1\n",
       "308111    1\n",
       "159133    3\n",
       "275117    2\n",
       "421977    2\n",
       "179986    1\n",
       "271237    2\n",
       "325106    1\n",
       "185702    2\n",
       "246098    3\n",
       "499298    3\n",
       "48253     3\n",
       "469158    3\n",
       "460783    3\n",
       "8060      0\n",
       "349214    4\n",
       "270114    4\n",
       "48146     1\n",
       "164034    4\n",
       "103983    3\n",
       "Name: source, dtype: int64"
      ]
     },
     "execution_count": 28,
     "metadata": {},
     "output_type": "execute_result"
    }
   ],
   "source": [
    "testY[10:30]"
   ]
  },
  {
   "cell_type": "code",
   "execution_count": 37,
   "id": "e3c32ad0",
   "metadata": {},
   "outputs": [
    {
     "data": {
      "text/plain": [
       "RandomForestClassifier(max_depth=10)"
      ]
     },
     "execution_count": 37,
     "metadata": {},
     "output_type": "execute_result"
    }
   ],
   "source": [
    "from sklearn.ensemble import RandomForestClassifier\n",
    "\n",
    "clf2 = RandomForestClassifier(max_depth=10)\n",
    "clf2.fit(X_train_minmax, trainY)\n"
   ]
  },
  {
   "cell_type": "code",
   "execution_count": 38,
   "id": "14d84d6d",
   "metadata": {},
   "outputs": [
    {
     "name": "stdout",
     "output_type": "stream",
     "text": [
      "The accuracy of the Random forest classifier is: 0.73864\n"
     ]
    }
   ],
   "source": [
    "X_test_minmax = min_max_scaler.fit_transform(testX)\n",
    "prediction2 = clf2.predict(X_test_minmax)\n",
    "print('The accuracy of the Random forest classifier is:',metrics.accuracy_score(prediction2,testY))"
   ]
  },
  {
   "cell_type": "code",
   "execution_count": null,
   "id": "eab8bec0",
   "metadata": {},
   "outputs": [],
   "source": []
  }
 ],
 "metadata": {
  "kernelspec": {
   "display_name": "Python 3",
   "language": "python",
   "name": "python3"
  },
  "language_info": {
   "codemirror_mode": {
    "name": "ipython",
    "version": 3
   },
   "file_extension": ".py",
   "mimetype": "text/x-python",
   "name": "python",
   "nbconvert_exporter": "python",
   "pygments_lexer": "ipython3",
   "version": "3.8.8"
  }
 },
 "nbformat": 4,
 "nbformat_minor": 5
}
